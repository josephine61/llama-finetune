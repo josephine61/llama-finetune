{
 "cells": [
  {
   "cell_type": "code",
   "execution_count": null,
   "metadata": {},
   "outputs": [],
   "source": [
    "#variables\n",
    "price = 10 #number\n",
    "rating = 4.9 #float\n",
    "name =\"Josephine\" #stirng\n",
    "is_female = True #boolean\n",
    "print(price)\n",
    "print(\"price\")\n",
    "\n",
    "# getting input: this program ask you to enter your name and your favorite color and print them\n",
    "name = input(\"what is your name? \")\n",
    "favorite_color = input(\"what is your favorite color? \")\n",
    "print(name + \"likes\" + favorite_color)\n",
    "\n",
    "#type conversion: \n",
    "#int(); bool(); float() convert string into number, boolean and float\n",
    "birth_year =input(\"My birth year is: \")\n",
    "age = 2023 - int(birth_year)\n",
    "print(age)\n",
    "#pogram convert weight in lbs into kg\n",
    "weight_lbs =input(\"weight_(lbs): \")\n",
    "weight_kg = int(weight_lbs)* 0.45\n",
    "print(weight_kg)\n",
    "\n",
    "#string format\n",
    "first = \"Josephine\"\n",
    "last = \"Smith\"\n",
    "message = first + \"[\" + last + \"] is a coder\" # by using troncatenation method\n",
    "msg = f'{first} [{last}] is a coder ' # by using formatted string\n",
    "print(msg)\n",
    "\n",
    "#string methodes\n",
    "course = 'josephine is beautiful'\n",
    "name = 'NGO BAMAL JOSEPHINE'\n",
    "print(len(course)) # 22\n",
    "print(course.upper()) # JOSEPHINE IS BEAUTIFUL\n",
    "print(name.lower()) #ngo bamal josephine\n",
    "print(course.find('s')) #2 because e is at position 2\n",
    "print(course.replace('josephine','anne')) # anne is beautiful\n",
    "print(name.replace('O','A'))\n",
    "\n",
    "\n"
   ]
  },
  {
   "cell_type": "markdown",
   "metadata": {},
   "source": []
  },
  {
   "cell_type": "code",
   "execution_count": null,
   "metadata": {},
   "outputs": [],
   "source": []
  },
  {
   "cell_type": "markdown",
   "metadata": {},
   "source": []
  },
  {
   "cell_type": "code",
   "execution_count": null,
   "metadata": {},
   "outputs": [],
   "source": []
  }
 ],
 "metadata": {
  "language_info": {
   "name": "python"
  }
 },
 "nbformat": 4,
 "nbformat_minor": 2
}
